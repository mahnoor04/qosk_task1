{
 "cells": [
  {
   "cell_type": "code",
   "execution_count": 7,
   "id": "f4a48e17",
   "metadata": {},
   "outputs": [],
   "source": [
    "from qiskit import QuantumCircuit, execute, Aer\n",
    "import numpy as np\n",
    "\n",
    "# Create a quantum circuit with 2 qubits and 1 classical bit\n",
    "qc = QuantumCircuit(2, 1)\n",
    "\n",
    "#num1 is for 1st number and num2 is for second number\n",
    "def find_the_largest_number(num1, num2):\n",
    "       \n",
    "    # Initialize the qubits to the input integers\n",
    "    if num1 < 0:\n",
    "        qc.x(0)  # Apply a NOT gate to qubit 0 if num1 is negative\n",
    "    qc.initialize([1, 0], 1)  # Initialize qubit 1 to |0⟩ or |1⟩ depending on num2\n",
    "    qc.rz(num2 * (2 * np.pi / 2**2), 1)  # Rotate qubit 1 by an angle proportional to num2\n",
    "    \n",
    "    # Compare the qubits\n",
    "    qc.h(0)  # Apply a Hadamard gate to qubit 0\n",
    "    qc.cx(0, 1)  # Apply a CNOT gate with qubit 0 as control and qubit 1 as target\n",
    "    qc.h(0)  # Apply another Hadamard gate to qubit 0\n",
    "    \n",
    "    # Measure qubit 0 and return the result\n",
    "    qc.measure(0, 0)\n",
    "    backend = Aer.get_backend('qasm_simulator')\n",
    "    counts = execute(qc, backend, shots=1).result().get_counts()\n",
    "    \n",
    "    if '0' in counts:\n",
    "        return num2\n",
    "    else:\n",
    "        return num1\n"
   ]
  },
  {
   "cell_type": "code",
   "execution_count": 8,
   "id": "2626246a",
   "metadata": {},
   "outputs": [
    {
     "name": "stdout",
     "output_type": "stream",
     "text": [
      "-1000\n"
     ]
    },
    {
     "data": {
      "image/png": "[encoded data removed]",
      "text/plain": [
       "<Figure size 538.128x284.278 with 1 Axes>"
      ]
     },
     "execution_count": 8,
     "metadata": {},
     "output_type": "execute_result"
    }
   ],
   "source": [
    "#Testing the circuit, here res is the result\n",
    "res = find_the_largest_number(-1000,-35000)\n",
    "print(res) #it will print the largest number\n",
    "qc.draw(output='mpl') #it will print the circuit implemented"
   ]
  }
 ],
 "metadata": {
  "kernelspec": {
   "display_name": "Qiskit (stable)",
   "language": "python",
   "name": "qiskit-stable"
  },
  "language_info": {
   "codemirror_mode": {
    "name": "ipython",
    "version": 3
   },
   "file_extension": ".py",
   "mimetype": "text/x-python",
   "name": "python",
   "nbconvert_exporter": "python",
   "pygments_lexer": "ipython3",
   "version": "3.9.16"
  }
 },
 "nbformat": 4,
 "nbformat_minor": 5
}
